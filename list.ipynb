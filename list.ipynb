{
  "nbformat": 4,
  "nbformat_minor": 0,
  "metadata": {
    "colab": {
      "provenance": [],
      "authorship_tag": "ABX9TyOoxOu5M7gJSdFQq2Woi/Q/",
      "include_colab_link": true
    },
    "kernelspec": {
      "name": "python3",
      "display_name": "Python 3"
    },
    "language_info": {
      "name": "python"
    }
  },
  "cells": [
    {
      "cell_type": "markdown",
      "metadata": {
        "id": "view-in-github",
        "colab_type": "text"
      },
      "source": [
        "<a href=\"https://colab.research.google.com/github/lakshmigitapp/Test1/blob/main/list.ipynb\" target=\"_parent\"><img src=\"https://colab.research.google.com/assets/colab-badge.svg\" alt=\"Open In Colab\"/></a>"
      ]
    },
    {
      "cell_type": "code",
      "execution_count": 3,
      "metadata": {
        "colab": {
          "base_uri": "https://localhost:8080/"
        },
        "id": "4S8Apwhkm8T7",
        "outputId": "72ec81f6-4133-4da1-9aaa-fdd689174c99"
      },
      "outputs": [
        {
          "output_type": "execute_result",
          "data": {
            "text/plain": [
              "['Zebra', 155.55, 110, True]"
            ]
          },
          "metadata": {},
          "execution_count": 3
        }
      ],
      "source": [
        "animal=['Zebra',155.55,110,True]\n",
        "animal"
      ]
    },
    {
      "cell_type": "code",
      "source": [
        "age=[25,26,25,27,26]\n",
        "age"
      ],
      "metadata": {
        "colab": {
          "base_uri": "https://localhost:8080/"
        },
        "id": "06mJ34x5nJkV",
        "outputId": "e27460b0-5509-43e6-fbe7-8fd0f5be8f04"
      },
      "execution_count": 4,
      "outputs": [
        {
          "output_type": "execute_result",
          "data": {
            "text/plain": [
              "[25, 26, 25, 27, 26]"
            ]
          },
          "metadata": {},
          "execution_count": 4
        }
      ]
    },
    {
      "cell_type": "code",
      "source": [
        "lst=[]\n",
        "lst"
      ],
      "metadata": {
        "colab": {
          "base_uri": "https://localhost:8080/"
        },
        "id": "ZofkXdIdnOXP",
        "outputId": "44440e7e-d174-4c82-890e-ee19dde13b8b"
      },
      "execution_count": 5,
      "outputs": [
        {
          "output_type": "execute_result",
          "data": {
            "text/plain": [
              "[]"
            ]
          },
          "metadata": {},
          "execution_count": 5
        }
      ]
    },
    {
      "cell_type": "code",
      "source": [
        "'''accessing elements'''\n",
        "\n",
        "num=[10,20,30,40,50,60]\n",
        "num\n",
        "num[0]\n",
        "num[2] # third element\n",
        "\n",
        "# [startindex:stopindex:step]\n",
        "\n",
        "num[2:5]\n",
        "num[:2] #first two element\n",
        "num[-2:]# last two element\n",
        "\n",
        "\n",
        "num=[100]+num\n",
        "num\n",
        "\n",
        "\n",
        "num=[60,70]+num\n",
        "num\n",
        "\n",
        "num=num+[90,80]\n",
        "num"
      ],
      "metadata": {
        "colab": {
          "base_uri": "https://localhost:8080/"
        },
        "id": "4w9bmDCznTEd",
        "outputId": "cad9247b-e60d-49df-d67f-08f0f9d29071"
      },
      "execution_count": 15,
      "outputs": [
        {
          "output_type": "execute_result",
          "data": {
            "text/plain": [
              "[60, 70, 100, 10, 20, 30, 40, 50, 60, 90, 80]"
            ]
          },
          "metadata": {},
          "execution_count": 15
        }
      ]
    },
    {
      "cell_type": "code",
      "source": [
        "# looping in list\n",
        "#while  or for loop\n",
        "\n",
        "animals=['Zebra','tiger','lion','jackal','kangaroo']\n",
        "animals\n",
        "i=0\n",
        "while i<len(animals):\n",
        "  print(animals[i])\n",
        "  i+=1\n",
        "\n",
        "#using more convenient for loop\n",
        "\n",
        "for a in animals:\n",
        "  print(a)\n",
        "\n",
        "# enumerate function :- we can track the index of the element\n",
        "\n",
        "\n"
      ],
      "metadata": {
        "colab": {
          "base_uri": "https://localhost:8080/"
        },
        "id": "chMigjQOouml",
        "outputId": "d20e169f-6357-4b50-c2e1-641c98d7cca8"
      },
      "execution_count": 18,
      "outputs": [
        {
          "output_type": "stream",
          "name": "stdout",
          "text": [
            "Zebra\n",
            "tiger\n",
            "lion\n",
            "jackal\n",
            "kangaroo\n",
            "Zebra\n",
            "tiger\n",
            "lion\n",
            "jackal\n",
            "kangaroo\n"
          ]
        }
      ]
    },
    {
      "cell_type": "code",
      "source": [
        "animals=['Zebra','tiger','lion','jackal','kangaroo']\n",
        "for index,a in enumerate(animals):\n",
        "  print(index,a)"
      ],
      "metadata": {
        "colab": {
          "base_uri": "https://localhost:8080/"
        },
        "id": "HV0ikvQlpk7P",
        "outputId": "3ac969ae-532d-4415-e855-fbe24da0fce6"
      },
      "execution_count": 19,
      "outputs": [
        {
          "output_type": "stream",
          "name": "stdout",
          "text": [
            "0 Zebra\n",
            "1 tiger\n",
            "2 lion\n",
            "3 jackal\n",
            "4 kangaroo\n"
          ]
        }
      ]
    },
    {
      "cell_type": "code",
      "source": [
        "#basic list operations\n",
        "#mutablity -- unlike strings,list are mutable(changable)\n",
        "animals=['Zebra','tiger','lion','jackal','kangaroo']\n",
        "ages=[25,26,25,27,26,28,25]\n",
        "\n",
        "\n",
        "animals[2]\n",
        "ages[5]\n",
        "ages[2:5]=[24,25,32]  # updated\n",
        "ages[2:5]=[]          # removed\n",
        "ages\n"
      ],
      "metadata": {
        "colab": {
          "base_uri": "https://localhost:8080/"
        },
        "id": "wjPI3eNzp-Zg",
        "outputId": "77021bd1-8e7d-4182-c80a-12dfe52c19b0"
      },
      "execution_count": 27,
      "outputs": [
        {
          "output_type": "execute_result",
          "data": {
            "text/plain": [
              "[25, 26, 28, 25]"
            ]
          },
          "metadata": {},
          "execution_count": 27
        }
      ]
    },
    {
      "cell_type": "code",
      "source": [
        "#concatenation   # updates in same list\n",
        "lst=[12,15,13,23,22,16,17]\n",
        "lst=lst+[33,44,55]\n",
        "lst"
      ],
      "metadata": {
        "colab": {
          "base_uri": "https://localhost:8080/"
        },
        "id": "Zx0r5jjGrJDB",
        "outputId": "d42c0849-e292-4298-baae-689db9bc6180"
      },
      "execution_count": 28,
      "outputs": [
        {
          "output_type": "execute_result",
          "data": {
            "text/plain": [
              "[12, 15, 13, 23, 22, 16, 17, 33, 44, 55]"
            ]
          },
          "metadata": {},
          "execution_count": 28
        }
      ]
    },
    {
      "cell_type": "code",
      "source": [
        "#merging --   create a new list\n",
        "s=[10,20,30]\n",
        "t=[100,200,300]\n",
        "s=s+t\n",
        "s"
      ],
      "metadata": {
        "colab": {
          "base_uri": "https://localhost:8080/"
        },
        "id": "w-HThLegrbWj",
        "outputId": "f8120cb6-f488-4c69-a0bc-0cf8b1337299"
      },
      "execution_count": 30,
      "outputs": [
        {
          "output_type": "execute_result",
          "data": {
            "text/plain": [
              "[10, 20, 30, 100, 200, 300]"
            ]
          },
          "metadata": {},
          "execution_count": 30
        }
      ]
    },
    {
      "cell_type": "code",
      "source": [
        "list('Africa')"
      ],
      "metadata": {
        "colab": {
          "base_uri": "https://localhost:8080/"
        },
        "id": "xTDsq8YssD0m",
        "outputId": "8695d6bb-a945-4ea4-8e5b-400c9b4b58c7"
      },
      "execution_count": 32,
      "outputs": [
        {
          "output_type": "execute_result",
          "data": {
            "text/plain": [
              "['A', 'f', 'r', 'i', 'c', 'a']"
            ]
          },
          "metadata": {},
          "execution_count": 32
        }
      ]
    },
    {
      "cell_type": "code",
      "source": [
        "#Aliasing- On assigning one list to another,both refer to the same list.\n",
        "#changing one changes the other.this assignment also known as shallow copy or aliasing\n",
        "\n",
        "lst1=[10,20,30,40,50]\n",
        "lst2=lst1  # lst2 refers to same list as list1\n",
        "print(lst1)\n",
        "print(lst2)\n",
        "lst1[0]=100\n",
        "print(lst1)\n",
        "print(lst2)"
      ],
      "metadata": {
        "colab": {
          "base_uri": "https://localhost:8080/"
        },
        "id": "75W1RmR2shEP",
        "outputId": "5e60e826-eb71-45f0-c2a0-60cb67d1e3dc"
      },
      "execution_count": 35,
      "outputs": [
        {
          "output_type": "stream",
          "name": "stdout",
          "text": [
            "[10, 20, 30, 40, 50]\n",
            "[10, 20, 30, 40, 50]\n",
            "[100, 20, 30, 40, 50]\n",
            "[100, 20, 30, 40, 50]\n"
          ]
        }
      ]
    },
    {
      "cell_type": "code",
      "source": [
        "#searching -- in\n",
        "lst=['a','e','i','o','u']\n",
        "res='z' in lst\n",
        "res"
      ],
      "metadata": {
        "colab": {
          "base_uri": "https://localhost:8080/"
        },
        "id": "s0q5Z1biuAjp",
        "outputId": "50c5acb6-f40e-4fde-cf22-4658a26b8fee"
      },
      "execution_count": 40,
      "outputs": [
        {
          "output_type": "execute_result",
          "data": {
            "text/plain": [
              "False"
            ]
          },
          "metadata": {},
          "execution_count": 40
        }
      ]
    },
    {
      "cell_type": "code",
      "source": [
        "#identity  -- is\n",
        "lst1=[10,20,30,40,50]\n",
        "lst2=[10,20,30,40,50]\n",
        "lst3=lst1\n",
        "print(lst1 is lst2)\n",
        "print(lst1 is lst3)\n",
        "print(lst1 is not lst2)"
      ],
      "metadata": {
        "colab": {
          "base_uri": "https://localhost:8080/"
        },
        "id": "qhmM4Vl_uf7W",
        "outputId": "985becb4-13cc-4ef7-d7c0-e2592b427c9b"
      },
      "execution_count": 43,
      "outputs": [
        {
          "output_type": "stream",
          "name": "stdout",
          "text": [
            "False\n",
            "True\n",
            "True\n"
          ]
        }
      ]
    },
    {
      "cell_type": "code",
      "source": [
        "#comparision\n",
        "a=[1,2,3,4]\n",
        "b=[1,2,5]\n",
        "print(a<b)"
      ],
      "metadata": {
        "colab": {
          "base_uri": "https://localhost:8080/"
        },
        "id": "Ch8qePa4u3yP",
        "outputId": "b70c126d-7c87-43b6-8b46-70807c738bee"
      },
      "execution_count": 44,
      "outputs": [
        {
          "output_type": "stream",
          "name": "stdout",
          "text": [
            "True\n"
          ]
        }
      ]
    },
    {
      "cell_type": "code",
      "source": [
        "lst=[]\n",
        "if not lst:\n",
        "  print('empty list')"
      ],
      "metadata": {
        "colab": {
          "base_uri": "https://localhost:8080/"
        },
        "id": "xVl7yjS-vPGv",
        "outputId": "5329d6df-b7ee-4a54-948c-64170f02a3fd"
      },
      "execution_count": 45,
      "outputs": [
        {
          "output_type": "stream",
          "name": "stdout",
          "text": [
            "empty list\n"
          ]
        }
      ]
    }
  ]
}